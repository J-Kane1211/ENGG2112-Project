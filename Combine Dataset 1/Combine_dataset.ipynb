{
 "cells": [
  {
   "cell_type": "code",
   "execution_count": 18,
   "metadata": {},
   "outputs": [],
   "source": [
    "import numpy as np\n",
    "import pandas as pd\n",
    "\n",
    "df_original = pd.read_csv('Original_dataset.csv')\n",
    "df_India = pd.read_csv('India_dataset.csv')\n",
    "\n",
    "df_India = df_India.drop(columns = ['patientid', 'noofmajorvessels'])\n",
    "df_India['gender'] = df_India['gender'].map({1:'M', 0: 'F'})\n",
    "df_India['chestpain'] = df_India['chestpain'].map({0:'TA', 1: 'ATA', 2: 'NAP', 3: 'ASY'})\n",
    "df_India['restingrelectro'] = df_India['restingrelectro'].map({0:'Normal', 1: 'ST', 2: 'LVH'})\n",
    "df_India['exerciseangia'] = df_India['exerciseangia'].map({1:'Y', 0: 'N'})\n",
    "df_India['slope'] = df_India['slope'].map({1:'Up', 2: 'Flat', 3: 'Down'})\n",
    "\n",
    "df_India.columns = df_original.columns\n",
    "\n",
    "combined_df = pd.concat([df_original, df_India], ignore_index = True)\n",
    "combined_df.to_csv('Dataset_1_combined.csv', index=False)\n",
    "\n"
   ]
  }
 ],
 "metadata": {
  "kernelspec": {
   "display_name": "ENGG2112",
   "language": "python",
   "name": "python3"
  },
  "language_info": {
   "codemirror_mode": {
    "name": "ipython",
    "version": 3
   },
   "file_extension": ".py",
   "mimetype": "text/x-python",
   "name": "python",
   "nbconvert_exporter": "python",
   "pygments_lexer": "ipython3",
   "version": "3.11.7"
  }
 },
 "nbformat": 4,
 "nbformat_minor": 2
}
